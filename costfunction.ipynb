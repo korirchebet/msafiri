{
  "nbformat": 4,
  "nbformat_minor": 0,
  "metadata": {
    "colab": {
      "provenance": [],
      "authorship_tag": "ABX9TyMy71ToV1nhdQFvFUhj2P6f",
      "include_colab_link": true
    },
    "kernelspec": {
      "name": "python3",
      "display_name": "Python 3"
    },
    "language_info": {
      "name": "python"
    }
  },
  "cells": [
    {
      "cell_type": "markdown",
      "metadata": {
        "id": "view-in-github",
        "colab_type": "text"
      },
      "source": [
        "<a href=\"https://colab.research.google.com/github/korirchebet/msafiri/blob/main/costfunction.ipynb\" target=\"_parent\"><img src=\"https://colab.research.google.com/assets/colab-badge.svg\" alt=\"Open In Colab\"/></a>"
      ]
    },
    {
      "cell_type": "code",
      "execution_count": 15,
      "metadata": {
        "colab": {
          "base_uri": "https://localhost:8080/"
        },
        "id": "H9uVNY_seHw_",
        "outputId": "87895795-8645-4202-ce91-6924ae65464d"
      },
      "outputs": [
        {
          "output_type": "stream",
          "name": "stdout",
          "text": [
            "40\n"
          ]
        }
      ],
      "source": [
        "def computeEditDistance(s,t):\n",
        "  cache = {}\n",
        "  def recurse(m,n):\n",
        "    \"\"\"\n",
        "    Return the minimum edit distance between:\n",
        "    - firt m letters of s\n",
        "    -first n letters of t\n",
        "    \"\"\"\n",
        "   \n",
        "    if (m,n) in cache:\n",
        "      return cache[(m,n)]\n",
        "    if m==0:\n",
        "      result = n\n",
        "    elif n==0:\n",
        "      result = m\n",
        "    elif s[m-1]==t[n-1]: #last letters match\n",
        "      result =  recurse(m-1, n-1)\n",
        "    else:\n",
        "       subCost = 1 + recurse(m-1, n-1) \n",
        "       delCost = 1 + recurse(m-1,n)\n",
        "       insCost = 1 + recurse(m, n-1)\n",
        "       result= min(subCost, delCost, insCost)\n",
        "       \n",
        "    cache[(m,n)] = result\n",
        "    return result\n",
        "  return recurse(len(s), len(t))  \n",
        "\n",
        "print(computeEditDistance('a cat!'*10, 'the cats!'*10))\n",
        "  \n"
      ]
    },
    {
      "cell_type": "code",
      "source": [],
      "metadata": {
        "id": "Y8q3WncYlB29"
      },
      "execution_count": null,
      "outputs": []
    }
  ]
}